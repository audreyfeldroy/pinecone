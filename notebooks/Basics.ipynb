{
 "metadata": {
  "name": "",
  "signature": "sha256:665c9240d327ce5af010013b2e08ba3750ca4c277d5fe0926096282ba49fd178"
 },
 "nbformat": 3,
 "nbformat_minor": 0,
 "worksheets": [
  {
   "cells": [
    {
     "cell_type": "heading",
     "level": 1,
     "metadata": {},
     "source": [
      "Ellipse"
     ]
    },
    {
     "cell_type": "code",
     "collapsed": false,
     "input": [
      "from pinecone import *\n",
      "\n",
      "im = size(600, 400)\n",
      "ellipse(300, 200, 100, 40)\n",
      "\n",
      "import numpy as np\n",
      "from matplotlib.pyplot import imshow\n",
      "%matplotlib inline\n",
      "imshow(np.asarray(im))"
     ],
     "language": "python",
     "metadata": {},
     "outputs": [
      {
       "metadata": {},
       "output_type": "pyout",
       "prompt_number": 1,
       "text": [
        "<matplotlib.image.AxesImage at 0x106cb2048>"
       ]
      },
      {
       "metadata": {},
       "output_type": "display_data",
       "png": "[encoded data removed]",
       "text": [
        "<matplotlib.figure.Figure at 0x102297f28>"
       ]
      }
     ],
     "prompt_number": 1
    },
    {
     "cell_type": "code",
     "collapsed": false,
     "input": [
      "def show_in_notebook(img):\n",
      "    import numpy as np\n",
      "    from matplotlib.pyplot import imshow\n",
      "    %matplotlib inline\n",
      "    imshow(np.asarray(img))"
     ],
     "language": "python",
     "metadata": {},
     "outputs": [],
     "prompt_number": 3
    },
    {
     "cell_type": "code",
     "collapsed": false,
     "input": [
      "def show_in_notebook(img):\n",
      "    import numpy as np\n",
      "    from matplotlib.pyplot import imshow\n",
      "    get_ipython().magic('matplotlib inline')\n",
      "    imshow(np.asarray(img))"
     ],
     "language": "python",
     "metadata": {},
     "outputs": [],
     "prompt_number": 1
    },
    {
     "cell_type": "code",
     "collapsed": false,
     "input": [
      "from pinecone import size, ellipse\n",
      "\n",
      "im = size(600, 400)\n",
      "ellipse(300, 200, 100, 40)\n",
      "\n",
      "show_in_notebook(im)"
     ],
     "language": "python",
     "metadata": {},
     "outputs": [
      {
       "ename": "NameError",
       "evalue": "name 'show_in_notebook' is not defined",
       "output_type": "pyerr",
       "traceback": [
        "\u001b[0;31m---------------------------------------------------------------------------\u001b[0m\n\u001b[0;31mNameError\u001b[0m                                 Traceback (most recent call last)",
        "\u001b[0;32m<ipython-input-1-690e2c08dfa5>\u001b[0m in \u001b[0;36m<module>\u001b[0;34m()\u001b[0m\n\u001b[1;32m      4\u001b[0m \u001b[0mellipse\u001b[0m\u001b[0;34m(\u001b[0m\u001b[0;36m300\u001b[0m\u001b[0;34m,\u001b[0m \u001b[0;36m200\u001b[0m\u001b[0;34m,\u001b[0m \u001b[0;36m100\u001b[0m\u001b[0;34m,\u001b[0m \u001b[0;36m40\u001b[0m\u001b[0;34m)\u001b[0m\u001b[0;34m\u001b[0m\u001b[0m\n\u001b[1;32m      5\u001b[0m \u001b[0;34m\u001b[0m\u001b[0m\n\u001b[0;32m----> 6\u001b[0;31m \u001b[0mshow_in_notebook\u001b[0m\u001b[0;34m(\u001b[0m\u001b[0mim\u001b[0m\u001b[0;34m)\u001b[0m\u001b[0;34m\u001b[0m\u001b[0m\n\u001b[0m",
        "\u001b[0;31mNameError\u001b[0m: name 'show_in_notebook' is not defined"
       ]
      }
     ],
     "prompt_number": 1
    },
    {
     "cell_type": "code",
     "collapsed": false,
     "input": [
      "from pinecone import size, ellipse, show_in_ipynb\n",
      "\n",
      "im = size(600, 400)\n",
      "ellipse(300, 200, 100, 40)\n",
      "ellipse(100, 200, 30, 40)\n",
      "\n",
      "show_in_ipynb(im)"
     ],
     "language": "python",
     "metadata": {},
     "outputs": [
      {
       "metadata": {},
       "output_type": "display_data",
       "png": "[encoded data removed]",
       "text": [
        "<matplotlib.figure.Figure at 0x102598e80>"
       ]
      }
     ],
     "prompt_number": 1
    },
    {
     "cell_type": "code",
     "collapsed": false,
     "input": [
      "%time\n",
      "from pinecone import size, ellipse, show_in_ipynb\n",
      "\n",
      "im = size(600, 400)\n",
      "ellipse(300, 200, 100, 40)\n",
      "ellipse(100, 200, 30, 40)\n",
      "\n",
      "show_in_ipynb(im)"
     ],
     "language": "python",
     "metadata": {},
     "outputs": [
      {
       "output_type": "stream",
       "stream": "stdout",
       "text": [
        "CPU times: user 3 \u00b5s, sys: 1 \u00b5s, total: 4 \u00b5s\n",
        "Wall time: 7.15 \u00b5s\n"
       ]
      },
      {
       "metadata": {},
       "output_type": "display_data",
       "png": "[encoded data removed]",
       "text": [
        "<matplotlib.figure.Figure at 0x106eee240>"
       ]
      }
     ],
     "prompt_number": 2
    },
    {
     "cell_type": "code",
     "collapsed": false,
     "input": [
      "%hist -t"
     ],
     "language": "python",
     "metadata": {},
     "outputs": [
      {
       "output_type": "stream",
       "stream": "stdout",
       "text": [
        "from pinecone import size, ellipse, show_in_ipynb\n",
        "\n",
        "im = size(600, 400)\n",
        "ellipse(300, 200, 100, 40)\n",
        "ellipse(100, 200, 30, 40)\n",
        "\n",
        "show_in_ipynb(im)\n",
        "get_ipython().magic('time')\n",
        "from pinecone import size, ellipse, show_in_ipynb\n",
        "\n",
        "im = size(600, 400)\n",
        "ellipse(300, 200, 100, 40)\n",
        "ellipse(100, 200, 30, 40)\n",
        "\n",
        "show_in_ipynb(im)\n",
        "get_ipython().magic('hist -t')\n"
       ]
      }
     ],
     "prompt_number": 3
    },
    {
     "cell_type": "code",
     "collapsed": false,
     "input": [
      "from pinecone import *\n",
      "\n",
      "size(600, 600)\n",
      "ellipse(250, 100, 200, 70)\n",
      "show_in_ipynb()"
     ],
     "language": "python",
     "metadata": {},
     "outputs": [
      {
       "metadata": {},
       "output_type": "display_data",
       "png": "[encoded data removed]",
       "text": [
        "<matplotlib.figure.Figure at 0x102298780>"
       ]
      }
     ],
     "prompt_number": 1
    },
    {
     "cell_type": "code",
     "collapsed": false,
     "input": [],
     "language": "python",
     "metadata": {},
     "outputs": []
    }
   ],
   "metadata": {}
  }
 ]
}